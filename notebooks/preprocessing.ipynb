{
 "cells": [
  {
   "cell_type": "code",
   "execution_count": 9,
   "metadata": {},
   "outputs": [
    {
     "name": "stderr",
     "output_type": "stream",
     "text": [
      "[nltk_data] Downloading package punkt to /Users/neeraj/nltk_data...\n",
      "[nltk_data]   Package punkt is already up-to-date!\n"
     ]
    }
   ],
   "source": [
    "import numpy as np\n",
    "import pandas as pd \n",
    "import string\n",
    "import re\n",
    "import nltk\n",
    "nltk.download('punkt')\n",
    "from nltk.corpus import stopwords\n",
    "from nltk.tokenize import word_tokenize \n",
    "from nltk.stem import PorterStemmer\n",
    "from nltk.stem import LancasterStemmer\n",
    "from nltk.tokenize import word_tokenize\n",
    "from nltk.stem.snowball import SnowballStemmer\n",
    "from nltk.stem import WordNetLemmatizer "
   ]
  },
  {
   "cell_type": "code",
   "execution_count": 10,
   "metadata": {},
   "outputs": [],
   "source": [
    "# Import the datasets \n",
    "train_data = pd.read_csv('../data/fnc-1/final_train.csv')\n",
    "test_data = pd.read_csv('../data/fnc-1/final_test.csv')"
   ]
  },
  {
   "cell_type": "code",
   "execution_count": 11,
   "metadata": {},
   "outputs": [],
   "source": [
    "# Clean the datasets \n",
    "def clean_data(text):\n",
    "    # Remove whitespaces\n",
    "    text = text.strip()\n",
    "    # Remove special characters and numbers\n",
    "    pattern = r'[^a-zA-z0-9\\s]'\n",
    "    text = re.sub(pattern, '', text)\n",
    "    # Remove punctuation \n",
    "    text.translate(str.maketrans('', '', string.punctuation))\n",
    "    # Remove square brackets \n",
    "    text = re.sub('\\[[^]]*\\][.;:!\\'?,\\\"()\\[\\]] ', '', text)\n",
    "    # Remove break elements from the text \n",
    "    text = re.sub(\"(<br\\s*/><br\\s*/>)|(\\-)|(\\/)\", '', text)\n",
    "    # Converting the text to lowercase \n",
    "    text = text.lower()\n",
    "    return text\n",
    "\n",
    "# Cleaing training dataset columns\n",
    "train_data['articleHeading'] = train_data['articleHeading'].apply(clean_data)\n",
    "train_data['articleBody'] = train_data['articleBody'].apply(clean_data)\n",
    "# Cleaning the test dataset colums\n",
    "test_data['articleHeading'] = test_data['articleHeading'].apply(clean_data)\n",
    "test_data['articleBody'] = test_data['articleBody'].apply(clean_data)"
   ]
  },
  {
   "cell_type": "code",
   "execution_count": 12,
   "metadata": {},
   "outputs": [],
   "source": [
    "# Tokenize the words for training data\n",
    "train_data['articleHeading'] = train_data['articleHeading'].apply(word_tokenize)\n",
    "train_data['articleBody'] = train_data['articleBody'].apply(word_tokenize)\n",
    "# Tokenize the words for testing data\n",
    "test_data['articleHeading'] = test_data['articleHeading'].apply(word_tokenize)\n",
    "test_data['articleBody'] = test_data['articleBody'].apply(word_tokenize)"
   ]
  },
  {
   "cell_type": "code",
   "execution_count": 13,
   "metadata": {},
   "outputs": [],
   "source": [
    "# Method to remove stopwords from the dataframe\n",
    "stop_words = set(stopwords.words(\"english\"))\n",
    "def remove_stopwords(text):\n",
    "    final_words = [word for word in text if word not in stop_words]\n",
    "    return \" \".join(final_words)\n",
    "\n",
    "# Removing stopwords from article headings and article body for the train data\n",
    "train_data['articleHeading'] = train_data['articleHeading'].apply(remove_stopwords)\n",
    "train_data['articleBody'] = train_data['articleBody'].apply(remove_stopwords)\n",
    "# Removing stopwords from article headings and article body for the test data\n",
    "test_data['articleHeading'] = test_data['articleHeading'].apply(remove_stopwords)\n",
    "test_data['articleBody'] = test_data['articleBody'].apply(remove_stopwords)"
   ]
  },
  {
   "cell_type": "code",
   "execution_count": 14,
   "metadata": {},
   "outputs": [],
   "source": [
    "# Stemming to reduce words to their word stem for train data using \n",
    "# Porter Stemming or Lancaster Stemming algorithms.\n",
    "def perform_stemming(text):\n",
    "    # Using PorterStemmer \n",
    "    porter = PorterStemmer()\n",
    "    porterFinal = [porter.stem(word) for word in text.split()]\n",
    "    text = \" \".join(porterFinal)\n",
    "    # Using LancasterStemmer \n",
    "    # lancaster = LancasterStemmer()\n",
    "    # lancasterFinal = [lancaster.stem(word) for word in text.split()]\n",
    "    # text = \" \".join(lancasterFinal)\n",
    "    return text\n",
    "\n",
    "# Stemming the train data by applying perform_stemming method\n",
    "train_data['articleHeading'] = train_data['articleHeading'].apply(perform_stemming)\n",
    "train_data['articleBody'] = train_data['articleBody'].apply(perform_stemming)\n",
    "# Stemming the test data by applying perform_stemming method\n",
    "test_data['articleHeading'] = test_data['articleHeading'].apply(perform_stemming)\n",
    "test_data['articleBody'] = test_data['articleBody'].apply(perform_stemming)"
   ]
  },
  {
   "cell_type": "code",
   "execution_count": 15,
   "metadata": {},
   "outputs": [],
   "source": [
    "# Lemmatization to reduce inflectional forms to a common base form\n",
    "def perform_lemmatization(text):\n",
    "    # Using WordNetLemmatizer\n",
    "    lemmatizer = WordNetLemmatizer()\n",
    "    lemmatizerFinal = [lemmatizer.lemmatize(word) for word in text.split()]\n",
    "    text = \" \".join(lemmatizerFinal)\n",
    "    return text\n",
    "\n",
    "# Lemmatizing the train data\n",
    "train_data['articleHeading'] = train_data['articleHeading'].apply(perform_lemmatization)\n",
    "train_data['articleBody'] = train_data['articleBody'].apply(perform_lemmatization)\n",
    "# Lemmatizing the test data\n",
    "test_data['articleHeading'] = test_data['articleHeading'].apply(perform_lemmatization)\n",
    "test_data['articleBody'] = test_data['articleBody'].apply(perform_lemmatization)\n"
   ]
  },
  {
   "cell_type": "code",
   "execution_count": 16,
   "metadata": {},
   "outputs": [],
   "source": [
    "# Save the new updated dataframes into csv files\n",
    "train_data.to_csv('../data/fnc-1/preprocess_train.csv', index=False)  \n",
    "test_data.to_csv('../data/fnc-1/preprocess_test.csv', index=False)"
   ]
  },
  {
   "cell_type": "code",
   "execution_count": null,
   "metadata": {},
   "outputs": [],
   "source": []
  }
 ],
 "metadata": {
  "kernelspec": {
   "display_name": "Python 3",
   "language": "python",
   "name": "python3"
  },
  "language_info": {
   "codemirror_mode": {
    "name": "ipython",
    "version": 3
   },
   "file_extension": ".py",
   "mimetype": "text/x-python",
   "name": "python",
   "nbconvert_exporter": "python",
   "pygments_lexer": "ipython3",
   "version": "3.7.6"
  }
 },
 "nbformat": 4,
 "nbformat_minor": 2
}
