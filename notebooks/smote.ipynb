{
 "cells": [
  {
   "cell_type": "code",
   "execution_count": 47,
   "metadata": {},
   "outputs": [],
   "source": [
    "import numpy as np\n",
    "from numpy import load\n",
    "import pandas as pd\n",
    "from sklearn.linear_model import LogisticRegression\n",
    "from sklearn.metrics import accuracy_score\n",
    "from sklearn.metrics import confusion_matrix\n",
    "from sklearn.metrics import precision_score\n",
    "from sklearn.metrics import recall_score\n",
    "from sklearn.metrics import classification_report\n",
    "from sklearn import metrics\n",
    "import matplotlib.pyplot as plt\n",
    "from sklearn.metrics import plot_roc_curve\n",
    "from sklearn.metrics import plot_confusion_matrix\n",
    "from sklearn.naive_bayes import BernoulliNB, GaussianNB\n",
    "from sklearn.ensemble import RandomForestClassifier\n",
    "from sklearn.tree import DecisionTreeClassifier\n",
    "from sklearn.neural_network import MLPClassifier"
   ]
  },
  {
   "cell_type": "code",
   "execution_count": 2,
   "metadata": {},
   "outputs": [],
   "source": [
    "# Load the X_train, Y_train, X_test and Y_test\n",
    "X_train = np.load('../data/fnc-1/x_train.npy')\n",
    "X_test = np.load('../data/fnc-1/x_test.npy')\n",
    "Y_train = np.load('../data/fnc-1/y_train.npy', allow_pickle=True)\n",
    "Y_test = load('../data/fnc-1/y_test.npy', allow_pickle=True)"
   ]
  },
  {
   "cell_type": "code",
   "execution_count": 3,
   "metadata": {},
   "outputs": [],
   "source": [
    "# Converting the labels into int type to prevent unknown type error \n",
    "Y_test = Y_test.astype('int')\n",
    "Y_train = Y_train.astype('int')"
   ]
  },
  {
   "cell_type": "code",
   "execution_count": 4,
   "metadata": {},
   "outputs": [],
   "source": [
    "from imblearn.over_sampling import SMOTE\n"
   ]
  },
  {
   "cell_type": "code",
   "execution_count": 5,
   "metadata": {},
   "outputs": [],
   "source": [
    "oversample = SMOTE()\n",
    "XX, YY = oversample.fit_resample(X_train, Y_train)"
   ]
  },
  {
   "cell_type": "code",
   "execution_count": 11,
   "metadata": {},
   "outputs": [],
   "source": [
    "from collections import Counter"
   ]
  },
  {
   "cell_type": "code",
   "execution_count": 13,
   "metadata": {},
   "outputs": [
    {
     "data": {
      "text/plain": [
       "Counter({3: 36545, 0: 36545, 2: 36545, 1: 36545})"
      ]
     },
     "execution_count": 13,
     "metadata": {},
     "output_type": "execute_result"
    }
   ],
   "source": [
    "Counter(YY)"
   ]
  },
  {
   "cell_type": "markdown",
   "metadata": {},
   "source": [
    "### Logistic Regression Classifier"
   ]
  },
  {
   "cell_type": "code",
   "execution_count": 15,
   "metadata": {},
   "outputs": [],
   "source": [
    "ll = LogisticRegression()"
   ]
  },
  {
   "cell_type": "code",
   "execution_count": 16,
   "metadata": {},
   "outputs": [
    {
     "name": "stderr",
     "output_type": "stream",
     "text": [
      "/Users/neeraj/.local/lib/python3.7/site-packages/sklearn/linear_model/_logistic.py:764: ConvergenceWarning: lbfgs failed to converge (status=1):\n",
      "STOP: TOTAL NO. of ITERATIONS REACHED LIMIT.\n",
      "\n",
      "Increase the number of iterations (max_iter) or scale the data as shown in:\n",
      "    https://scikit-learn.org/stable/modules/preprocessing.html\n",
      "Please also refer to the documentation for alternative solver options:\n",
      "    https://scikit-learn.org/stable/modules/linear_model.html#logistic-regression\n",
      "  extra_warning_msg=_LOGISTIC_SOLVER_CONVERGENCE_MSG)\n"
     ]
    },
    {
     "data": {
      "text/plain": [
       "LogisticRegression()"
      ]
     },
     "execution_count": 16,
     "metadata": {},
     "output_type": "execute_result"
    }
   ],
   "source": [
    "ll.fit(XX, YY)"
   ]
  },
  {
   "cell_type": "code",
   "execution_count": 17,
   "metadata": {},
   "outputs": [
    {
     "data": {
      "text/plain": [
       "0.8432298429937434"
      ]
     },
     "execution_count": 17,
     "metadata": {},
     "output_type": "execute_result"
    }
   ],
   "source": [
    "ll.score(X_test, Y_test)"
   ]
  },
  {
   "cell_type": "code",
   "execution_count": 21,
   "metadata": {},
   "outputs": [
    {
     "name": "stdout",
     "output_type": "stream",
     "text": [
      "Accuracy:  84.32298429937434 %\n",
      "Confusion Matrix:\n",
      " [[  956    40   695   212]\n",
      " [  236    30   247   184]\n",
      " [  852   110  2784   718]\n",
      " [  213    30   447 17659]]\n",
      "Precision Score:  0.8432298429937434\n",
      "Recall Score:  0.8432298429937434\n",
      "              precision    recall  f1-score   support\n",
      "\n",
      "           0       0.42      0.50      0.46      1903\n",
      "           1       0.14      0.04      0.07       697\n",
      "           2       0.67      0.62      0.64      4464\n",
      "           3       0.94      0.96      0.95     18349\n",
      "\n",
      "    accuracy                           0.84     25413\n",
      "   macro avg       0.54      0.53      0.53     25413\n",
      "weighted avg       0.83      0.84      0.84     25413\n",
      "\n"
     ]
    }
   ],
   "source": [
    "lr_Y_predictions = ll.predict(X_test)\n",
    "print('Accuracy: ', accuracy_score(Y_test, lr_Y_predictions) * 100, \"%\")\n",
    "# Getting the confusion matrix\n",
    "print('Confusion Matrix:\\n', confusion_matrix(Y_test, lr_Y_predictions))\n",
    "# Precision score\n",
    "print('Precision Score: ', precision_score(Y_test, lr_Y_predictions, average=\"micro\"))\n",
    "# Recall score\n",
    "print('Recall Score: ', recall_score(Y_test, lr_Y_predictions, average=\"micro\"))\n",
    "print(classification_report(Y_test, lr_Y_predictions))"
   ]
  },
  {
   "cell_type": "code",
   "execution_count": 25,
   "metadata": {},
   "outputs": [
    {
     "name": "stdout",
     "output_type": "stream",
     "text": [
      "Weighted F1 Score: 83.64%\n",
      "Agree F1 Score: 45.96% \n",
      "Disagree F1 Score: 6.62% \n",
      "Discuss F1 Score: 64.47% \n",
      "Unrelated F1 Score: 95.14%\n"
     ]
    }
   ],
   "source": [
    "labels = [0, 1, 2, 3]\n",
    "logisticF1 = metrics.f1_score(Y_test, lr_Y_predictions, labels=labels, average=None)\n",
    "weighted_f1_lr = metrics.f1_score(Y_test, lr_Y_predictions, labels=labels, average='weighted')\n",
    "print(\"Weighted F1 Score: %.2f%%\" % (weighted_f1_lr * 100.0))\n",
    "print('Agree F1 Score: %.2f%%' % (logisticF1[0]*100),'\\n'\n",
    "      'Disagree F1 Score: %.2f%%' % (logisticF1[1]*100),'\\n'\n",
    "      'Discuss F1 Score: %.2f%%' % (logisticF1[2]*100),'\\n'\n",
    "      'Unrelated F1 Score: %.2f%%' % (logisticF1[3]*100))"
   ]
  },
  {
   "cell_type": "code",
   "execution_count": 26,
   "metadata": {},
   "outputs": [
    {
     "data": {
      "image/png": "[encoded data removed]",
      "text/plain": [
       "<Figure size 432x288 with 2 Axes>"
      ]
     },
     "metadata": {
      "needs_background": "light"
     },
     "output_type": "display_data"
    }
   ],
   "source": [
    "# Plot confusion matrix\n",
    "plot_confusion_matrix(ll, X_test, Y_test)  # doctest: +SKIP\n",
    "plt.show() "
   ]
  },
  {
   "cell_type": "markdown",
   "metadata": {},
   "source": [
    "### Gaussian Naive Bayes Classifier"
   ]
  },
  {
   "cell_type": "code",
   "execution_count": 28,
   "metadata": {},
   "outputs": [
    {
     "name": "stdout",
     "output_type": "stream",
     "text": [
      "Accuracy:  26.632038720339985 %\n",
      "Confusion Matrix:\n",
      " [[ 841  326  308  428]\n",
      " [ 275  184   87  151]\n",
      " [1618  556 1564  726]\n",
      " [7704 1282 5184 4179]]\n",
      "Precision Score:  0.26632038720339984\n",
      "Recall Score:  0.26632038720339984\n",
      "              precision    recall  f1-score   support\n",
      "\n",
      "           0       0.08      0.44      0.14      1903\n",
      "           1       0.08      0.26      0.12       697\n",
      "           2       0.22      0.35      0.27      4464\n",
      "           3       0.76      0.23      0.35     18349\n",
      "\n",
      "    accuracy                           0.27     25413\n",
      "   macro avg       0.28      0.32      0.22     25413\n",
      "weighted avg       0.60      0.27      0.31     25413\n",
      "\n"
     ]
    }
   ],
   "source": [
    "# Gaussian Naive Bayes Classifier \n",
    "gaussianNB = GaussianNB()\n",
    "gaussianNB.fit(XX, YY)\n",
    "gnb_Y_predictions = gaussianNB.predict(X_test)\n",
    "print('Accuracy: ', accuracy_score(Y_test, gnb_Y_predictions) * 100, \"%\")\n",
    "# Getting the confusion matrix\n",
    "print('Confusion Matrix:\\n', confusion_matrix(Y_test, gnb_Y_predictions))\n",
    "# Precision score\n",
    "print('Precision Score: ', precision_score(Y_test, gnb_Y_predictions, average=\"micro\"))\n",
    "# Recall score\n",
    "print('Recall Score: ', recall_score(Y_test, gnb_Y_predictions, average=\"micro\"))\n",
    "print(classification_report(Y_test, gnb_Y_predictions))"
   ]
  },
  {
   "cell_type": "code",
   "execution_count": 29,
   "metadata": {},
   "outputs": [
    {
     "name": "stdout",
     "output_type": "stream",
     "text": [
      "Weighted F1 Score: 31.41%\n",
      "Agree F1 Score: 13.63% \n",
      "Disagree F1 Score: 12.09% \n",
      "Discuss F1 Score: 26.95% \n",
      "Unrelated F1 Score: 35.07%\n"
     ]
    }
   ],
   "source": [
    "gnbF1 = metrics.f1_score(Y_test, gnb_Y_predictions, labels=labels, average=None)\n",
    "weighted_f1_gnb = metrics.f1_score(Y_test, gnb_Y_predictions, labels=labels, average='weighted')\n",
    "print(\"Weighted F1 Score: %.2f%%\" % (weighted_f1_gnb * 100.0))\n",
    "print('Agree F1 Score: %.2f%%' % (gnbF1[0]*100),'\\n'\n",
    "      'Disagree F1 Score: %.2f%%' % (gnbF1[1]*100),'\\n'\n",
    "      'Discuss F1 Score: %.2f%%' % (gnbF1[2]*100),'\\n'\n",
    "      'Unrelated F1 Score: %.2f%%' % (gnbF1[3]*100))"
   ]
  },
  {
   "cell_type": "code",
   "execution_count": 30,
   "metadata": {},
   "outputs": [
    {
     "data": {
      "image/png": "[encoded data removed]",
      "text/plain": [
       "<Figure size 432x288 with 2 Axes>"
      ]
     },
     "metadata": {
      "needs_background": "light"
     },
     "output_type": "display_data"
    }
   ],
   "source": [
    "# Plot confusion matrix\n",
    "plot_confusion_matrix(gaussianNB, X_test, Y_test)  # doctest: +SKIP\n",
    "plt.show() "
   ]
  },
  {
   "cell_type": "markdown",
   "metadata": {},
   "source": [
    "### Bernoulli Naive Bayes Classifier "
   ]
  },
  {
   "cell_type": "code",
   "execution_count": 31,
   "metadata": {},
   "outputs": [
    {
     "name": "stdout",
     "output_type": "stream",
     "text": [
      "Accuracy:  26.632038720339985 %\n",
      "Confusion Matrix:\n",
      " [[  252    59   238  1354]\n",
      " [  126    62    67   442]\n",
      " [  326   121   800  3217]\n",
      " [ 1220   265  2239 14625]]\n",
      "Precision Score:  0.6193286900405305\n",
      "Recall Score:  0.6193286900405305\n",
      "              precision    recall  f1-score   support\n",
      "\n",
      "           0       0.13      0.13      0.13      1903\n",
      "           1       0.12      0.09      0.10       697\n",
      "           2       0.24      0.18      0.20      4464\n",
      "           3       0.74      0.80      0.77     18349\n",
      "\n",
      "    accuracy                           0.62     25413\n",
      "   macro avg       0.31      0.30      0.30     25413\n",
      "weighted avg       0.59      0.62      0.60     25413\n",
      "\n"
     ]
    }
   ],
   "source": [
    "# Bernoulli Naive Bayes Classifier \n",
    "bernoilliNB = BernoulliNB()\n",
    "bernoilliNB.fit(XX, YY)\n",
    "bnb_Y_predictions = bernoilliNB.predict(X_test)\n",
    "print('Accuracy: ', accuracy_score(Y_test, gnb_Y_predictions) * 100, \"%\")\n",
    "# Getting the confusion matrix\n",
    "print('Confusion Matrix:\\n', confusion_matrix(Y_test, bnb_Y_predictions))\n",
    "# Precision score\n",
    "print('Precision Score: ', precision_score(Y_test, bnb_Y_predictions, average=\"micro\"))\n",
    "# Recall score\n",
    "print('Recall Score: ', recall_score(Y_test, bnb_Y_predictions, average=\"micro\"))\n",
    "print(classification_report(Y_test, bnb_Y_predictions))"
   ]
  },
  {
   "cell_type": "code",
   "execution_count": 57,
   "metadata": {},
   "outputs": [
    {
     "name": "stdout",
     "output_type": "stream",
     "text": [
      "Weighted F1 Score: 60.46%\n",
      "Agree F1 Score: 13.17% \n",
      "Disagree F1 Score: 10.30% \n",
      "Discuss F1 Score: 20.49% \n",
      "Unrelated F1 Score: 77.00%\n"
     ]
    }
   ],
   "source": [
    "bnbF1 = metrics.f1_score(Y_test, bnb_Y_predictions, labels=labels, average=None)\n",
    "weighted_f1_bnb = metrics.f1_score(Y_test, bnb_Y_predictions, labels=labels, average='weighted')\n",
    "print(\"Weighted F1 Score: %.2f%%\" % (weighted_f1_bnb * 100.0))\n",
    "print('Agree F1 Score: %.2f%%' % (bnbF1[0]*100),'\\n'\n",
    "      'Disagree F1 Score: %.2f%%' % (bnbF1[1]*100),'\\n'\n",
    "      'Discuss F1 Score: %.2f%%' % (bnbF1[2]*100),'\\n'\n",
    "      'Unrelated F1 Score: %.2f%%' % (bnbF1[3]*100))"
   ]
  },
  {
   "cell_type": "code",
   "execution_count": 34,
   "metadata": {},
   "outputs": [
    {
     "data": {
      "image/png": "[encoded data removed]",
      "text/plain": [
       "<Figure size 432x288 with 2 Axes>"
      ]
     },
     "metadata": {
      "needs_background": "light"
     },
     "output_type": "display_data"
    }
   ],
   "source": [
    "# Plot confusion matrix\n",
    "plot_confusion_matrix(bernoilliNB, X_test, Y_test)  # doctest: +SKIP\n",
    "plt.show() "
   ]
  },
  {
   "cell_type": "markdown",
   "metadata": {},
   "source": [
    "### Random Forest Classifier"
   ]
  },
  {
   "cell_type": "code",
   "execution_count": 37,
   "metadata": {},
   "outputs": [
    {
     "name": "stdout",
     "output_type": "stream",
     "text": [
      "Accuracy:  77.07472553417543 %\n",
      "Confusion Matrix:\n",
      " [[ 1050     0   759    94]\n",
      " [  302     0   310    85]\n",
      " [  714     0  3373   377]\n",
      " [  450     0  2735 15164]]\n",
      "Precision Score:  0.7707472553417543\n",
      "Recall Score:  0.7707472553417543\n",
      "              precision    recall  f1-score   support\n",
      "\n",
      "           0       0.42      0.55      0.48      1903\n",
      "           1       0.00      0.00      0.00       697\n",
      "           2       0.47      0.76      0.58      4464\n",
      "           3       0.96      0.83      0.89     18349\n",
      "\n",
      "    accuracy                           0.77     25413\n",
      "   macro avg       0.46      0.53      0.49     25413\n",
      "weighted avg       0.81      0.77      0.78     25413\n",
      "\n"
     ]
    },
    {
     "name": "stderr",
     "output_type": "stream",
     "text": [
      "/Users/neeraj/.local/lib/python3.7/site-packages/sklearn/metrics/_classification.py:1221: UndefinedMetricWarning: Precision and F-score are ill-defined and being set to 0.0 in labels with no predicted samples. Use `zero_division` parameter to control this behavior.\n",
      "  _warn_prf(average, modifier, msg_start, len(result))\n"
     ]
    }
   ],
   "source": [
    "# Random Forest Classifier \n",
    "randomForest = RandomForestClassifier(random_state=1)\n",
    "randomForest.fit(XX, YY)\n",
    "rf_Y_predictions = randomForest.predict(X_test)\n",
    "print('Accuracy: ', accuracy_score(Y_test, rf_Y_predictions) * 100, \"%\")\n",
    "# Getting the confusion matrix\n",
    "print('Confusion Matrix:\\n', confusion_matrix(Y_test, rf_Y_predictions))\n",
    "# Precision score\n",
    "print('Precision Score: ', precision_score(Y_test, rf_Y_predictions, average=\"micro\"))\n",
    "# Recall score\n",
    "print('Recall Score: ', recall_score(Y_test, rf_Y_predictions, average=\"micro\"))\n",
    "print(classification_report(Y_test, rf_Y_predictions))"
   ]
  },
  {
   "cell_type": "code",
   "execution_count": 38,
   "metadata": {},
   "outputs": [
    {
     "name": "stdout",
     "output_type": "stream",
     "text": [
      "Weighted F1 Score: 78.01%\n",
      "Agree F1 Score: 47.52% \n",
      "Disagree F1 Score: 0.00% \n",
      "Discuss F1 Score: 57.95% \n",
      "Unrelated F1 Score: 89.02%\n"
     ]
    }
   ],
   "source": [
    "randomForestF1 = metrics.f1_score(Y_test, rf_Y_predictions, labels=labels, average=None)\n",
    "weighted_f1_rf = metrics.f1_score(Y_test, rf_Y_predictions, labels=labels, average='weighted')\n",
    "print(\"Weighted F1 Score: %.2f%%\" % (weighted_f1_rf * 100.0))\n",
    "print('Agree F1 Score: %.2f%%' % (randomForestF1[0]*100),'\\n'\n",
    "      'Disagree F1 Score: %.2f%%' % (randomForestF1[1]*100),'\\n'\n",
    "      'Discuss F1 Score: %.2f%%' % (randomForestF1[2]*100),'\\n'\n",
    "      'Unrelated F1 Score: %.2f%%' % (randomForestF1[3]*100))"
   ]
  },
  {
   "cell_type": "code",
   "execution_count": 39,
   "metadata": {},
   "outputs": [
    {
     "data": {
      "image/png": "[encoded data removed]",
      "text/plain": [
       "<Figure size 432x288 with 2 Axes>"
      ]
     },
     "metadata": {
      "needs_background": "light"
     },
     "output_type": "display_data"
    }
   ],
   "source": [
    "# Plot confusion matrix\n",
    "plot_confusion_matrix(randomForest, X_test, Y_test)  # doctest: +SKIP\n",
    "plt.show() "
   ]
  },
  {
   "cell_type": "markdown",
   "metadata": {},
   "source": [
    "### Decision Tree Classifier"
   ]
  },
  {
   "cell_type": "code",
   "execution_count": 43,
   "metadata": {},
   "outputs": [
    {
     "name": "stdout",
     "output_type": "stream",
     "text": [
      "Accuracy:  76.95667571715263 %\n",
      "Confusion Matrix:\n",
      " [[  775   246   737   145]\n",
      " [  256   102   220   119]\n",
      " [ 1362   274  2254   574]\n",
      " [  779   111  1033 16426]]\n",
      "Precision Score:  0.7695667571715263\n",
      "Recall Score:  0.7695667571715263\n",
      "              precision    recall  f1-score   support\n",
      "\n",
      "           0       0.24      0.41      0.31      1903\n",
      "           1       0.14      0.15      0.14       697\n",
      "           2       0.53      0.50      0.52      4464\n",
      "           3       0.95      0.90      0.92     18349\n",
      "\n",
      "    accuracy                           0.77     25413\n",
      "   macro avg       0.47      0.49      0.47     25413\n",
      "weighted avg       0.80      0.77      0.78     25413\n",
      "\n"
     ]
    }
   ],
   "source": [
    "# Decision Tree Classifier \n",
    "decisionTree = DecisionTreeClassifier(random_state=1)\n",
    "decisionTree.fit(XX, YY)\n",
    "dt_Y_predictions = decisionTree.predict(X_test)\n",
    "print('Accuracy: ', accuracy_score(Y_test, dt_Y_predictions) * 100, \"%\")\n",
    "# Getting the confusion matrix\n",
    "print('Confusion Matrix:\\n', confusion_matrix(Y_test, dt_Y_predictions))\n",
    "# Precision score\n",
    "print('Precision Score: ', precision_score(Y_test, dt_Y_predictions, average=\"micro\"))\n",
    "# Recall score\n",
    "print('Recall Score: ', recall_score(Y_test, dt_Y_predictions, average=\"micro\"))\n",
    "print(classification_report(Y_test, dt_Y_predictions))"
   ]
  },
  {
   "cell_type": "code",
   "execution_count": 56,
   "metadata": {},
   "outputs": [
    {
     "name": "stdout",
     "output_type": "stream",
     "text": [
      "Weighted F1 Score: 78.38%\n",
      "Agree F1 Score: 30.54% \n",
      "Disagree F1 Score: 14.27% \n",
      "Discuss F1 Score: 51.77% \n",
      "Unrelated F1 Score: 92.25%\n"
     ]
    }
   ],
   "source": [
    "dtF1 = metrics.f1_score(Y_test, dt_Y_predictions, labels=labels, average=None)\n",
    "weighted_f1_dt = metrics.f1_score(Y_test, dt_Y_predictions, labels=labels, average='weighted')\n",
    "print(\"Weighted F1 Score: %.2f%%\" % (weighted_f1_dt * 100.0))\n",
    "print('Agree F1 Score: %.2f%%' % (dtF1[0]*100),'\\n'\n",
    "      'Disagree F1 Score: %.2f%%' % (dtF1[1]*100),'\\n'\n",
    "      'Discuss F1 Score: %.2f%%' % (dtF1[2]*100),'\\n'\n",
    "      'Unrelated F1 Score: %.2f%%' % (dtF1[3]*100))"
   ]
  },
  {
   "cell_type": "code",
   "execution_count": 45,
   "metadata": {},
   "outputs": [
    {
     "data": {
      "image/png": "[encoded data removed]",
      "text/plain": [
       "<Figure size 432x288 with 2 Axes>"
      ]
     },
     "metadata": {
      "needs_background": "light"
     },
     "output_type": "display_data"
    }
   ],
   "source": [
    "# Plot confusion matrix\n",
    "plot_confusion_matrix(decisionTree, X_test, Y_test)  # doctest: +SKIP\n",
    "plt.show() "
   ]
  },
  {
   "cell_type": "markdown",
   "metadata": {},
   "source": [
    "### MLP Classifier"
   ]
  },
  {
   "cell_type": "code",
   "execution_count": 48,
   "metadata": {},
   "outputs": [
    {
     "name": "stdout",
     "output_type": "stream",
     "text": [
      "Accuracy:  81.28123401408727 %\n",
      "Confusion Matrix:\n",
      " [[  744    21   924   214]\n",
      " [  155     9   348   185]\n",
      " [  705    88  2966   705]\n",
      " [  405    71   936 16937]]\n",
      "Precision Score:  0.8128123401408728\n",
      "Recall Score:  0.8128123401408728\n",
      "              precision    recall  f1-score   support\n",
      "\n",
      "           0       0.37      0.39      0.38      1903\n",
      "           1       0.05      0.01      0.02       697\n",
      "           2       0.57      0.66      0.62      4464\n",
      "           3       0.94      0.92      0.93     18349\n",
      "\n",
      "    accuracy                           0.81     25413\n",
      "   macro avg       0.48      0.50      0.49     25413\n",
      "weighted avg       0.81      0.81      0.81     25413\n",
      "\n"
     ]
    }
   ],
   "source": [
    "# MLP Classifier(Neural Net)\n",
    "mlpClassifier = MLPClassifier(random_state=1)\n",
    "mlpClassifier.fit(XX, YY)\n",
    "mlp_Y_predictions = mlpClassifier.predict(X_test)\n",
    "print('Accuracy: ', accuracy_score(Y_test, mlp_Y_predictions) * 100, \"%\")\n",
    "# Getting the confusion matrix\n",
    "print('Confusion Matrix:\\n', confusion_matrix(Y_test, mlp_Y_predictions))\n",
    "# Precision score\n",
    "print('Precision Score: ', precision_score(Y_test, mlp_Y_predictions, average=\"micro\"))\n",
    "# Recall score\n",
    "print('Recall Score: ', recall_score(Y_test, mlp_Y_predictions, average=\"micro\"))\n",
    "print(classification_report(Y_test, mlp_Y_predictions))"
   ]
  },
  {
   "cell_type": "code",
   "execution_count": 55,
   "metadata": {},
   "outputs": [
    {
     "name": "stdout",
     "output_type": "stream",
     "text": [
      "Weighted F1 Score: 80.93%\n",
      "Agree F1 Score: 38.04% \n",
      "Disagree F1 Score: 2.03% \n",
      "Discuss F1 Score: 61.55% \n",
      "Unrelated F1 Score: 93.09%\n"
     ]
    }
   ],
   "source": [
    "mlpF1 = metrics.f1_score(Y_test, mlp_Y_predictions, labels=labels, average=None)\n",
    "weighted_f1_mlp = metrics.f1_score(Y_test, mlp_Y_predictions, labels=labels, average='weighted')\n",
    "print(\"Weighted F1 Score: %.2f%%\" % (weighted_f1_mlp * 100.0))\n",
    "print('Agree F1 Score: %.2f%%' % (mlpF1[0]*100),'\\n'\n",
    "      'Disagree F1 Score: %.2f%%' % (mlpF1[1]*100),'\\n'\n",
    "      'Discuss F1 Score: %.2f%%' % (mlpF1[2]*100),'\\n'\n",
    "      'Unrelated F1 Score: %.2f%%' % (mlpF1[3]*100))"
   ]
  },
  {
   "cell_type": "code",
   "execution_count": 50,
   "metadata": {},
   "outputs": [
    {
     "data": {
      "image/png": "[encoded data removed]",
      "text/plain": [
       "<Figure size 432x288 with 2 Axes>"
      ]
     },
     "metadata": {
      "needs_background": "light"
     },
     "output_type": "display_data"
    }
   ],
   "source": [
    "# Plot confusion matrix\n",
    "plot_confusion_matrix(mlpClassifier, X_test, Y_test)  # doctest: +SKIP\n",
    "plt.show() "
   ]
  },
  {
   "cell_type": "markdown",
   "metadata": {},
   "source": [
    "### Final Summary using SMOTE method"
   ]
  },
  {
   "cell_type": "code",
   "execution_count": 53,
   "metadata": {},
   "outputs": [],
   "source": [
    "models_list = ['Random Forest', 'Logistic Regression', 'Gaussian NB', 'Bernoulli NB', 'Decision Tree', 'MLP']\n",
    "rf_accuracy = accuracy_score(Y_test, rf_Y_predictions) * 100 \n",
    "lr_accuracy = accuracy_score(Y_test, lr_Y_predictions) * 100\n",
    "gnb_accuracy = accuracy_score(Y_test, gnb_Y_predictions) * 100\n",
    "bnb_accuracy = accuracy_score(Y_test, bnb_Y_predictions) * 100\n",
    "dt_accuracy = accuracy_score(Y_test, dt_Y_predictions) * 100\n",
    "# lsvc_accuracy = accuracy_score(Y_test, lsvc_Y_predictions) * 100\n",
    "mlp_accuracy = accuracy_score(Y_test, mlp_Y_predictions) * 100\n",
    "models_accuracy = [rf_accuracy, lr_accuracy, gnb_accuracy, bnb_accuracy, dt_accuracy, mlp_accuracy]\n",
    "summary = {'model': models_list, 'accuracy': models_accuracy}\n",
    "models_summary = pd.DataFrame(summary)\n",
    "models_summary.set_index('model', inplace=True)\n",
    "models_summary.index.name = None"
   ]
  },
  {
   "cell_type": "code",
   "execution_count": 54,
   "metadata": {},
   "outputs": [
    {
     "data": {
      "text/html": [
       "<div>\n",
       "<style scoped>\n",
       "    .dataframe tbody tr th:only-of-type {\n",
       "        vertical-align: middle;\n",
       "    }\n",
       "\n",
       "    .dataframe tbody tr th {\n",
       "        vertical-align: top;\n",
       "    }\n",
       "\n",
       "    .dataframe thead th {\n",
       "        text-align: right;\n",
       "    }\n",
       "</style>\n",
       "<table border=\"1\" class=\"dataframe\">\n",
       "  <thead>\n",
       "    <tr style=\"text-align: right;\">\n",
       "      <th></th>\n",
       "      <th>accuracy</th>\n",
       "    </tr>\n",
       "  </thead>\n",
       "  <tbody>\n",
       "    <tr>\n",
       "      <th>Random Forest</th>\n",
       "      <td>77.074726</td>\n",
       "    </tr>\n",
       "    <tr>\n",
       "      <th>Logistic Regression</th>\n",
       "      <td>84.322984</td>\n",
       "    </tr>\n",
       "    <tr>\n",
       "      <th>Gaussian NB</th>\n",
       "      <td>26.632039</td>\n",
       "    </tr>\n",
       "    <tr>\n",
       "      <th>Bernoulli NB</th>\n",
       "      <td>61.932869</td>\n",
       "    </tr>\n",
       "    <tr>\n",
       "      <th>Decision Tree</th>\n",
       "      <td>76.956676</td>\n",
       "    </tr>\n",
       "    <tr>\n",
       "      <th>MLP</th>\n",
       "      <td>81.281234</td>\n",
       "    </tr>\n",
       "  </tbody>\n",
       "</table>\n",
       "</div>"
      ],
      "text/plain": [
       "                      accuracy\n",
       "Random Forest        77.074726\n",
       "Logistic Regression  84.322984\n",
       "Gaussian NB          26.632039\n",
       "Bernoulli NB         61.932869\n",
       "Decision Tree        76.956676\n",
       "MLP                  81.281234"
      ]
     },
     "execution_count": 54,
     "metadata": {},
     "output_type": "execute_result"
    }
   ],
   "source": [
    "models_summary "
   ]
  },
  {
   "cell_type": "code",
   "execution_count": null,
   "metadata": {},
   "outputs": [],
   "source": []
  }
 ],
 "metadata": {
  "kernelspec": {
   "display_name": "Python 3",
   "language": "python",
   "name": "python3"
  },
  "language_info": {
   "codemirror_mode": {
    "name": "ipython",
    "version": 3
   },
   "file_extension": ".py",
   "mimetype": "text/x-python",
   "name": "python",
   "nbconvert_exporter": "python",
   "pygments_lexer": "ipython3",
   "version": "3.7.6"
  }
 },
 "nbformat": 4,
 "nbformat_minor": 2
}
