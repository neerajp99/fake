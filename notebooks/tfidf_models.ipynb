{
 "cells": [
  {
   "cell_type": "code",
   "execution_count": 43,
   "metadata": {},
   "outputs": [],
   "source": [
    "import numpy as np\n",
    "from sklearn.ensemble import RandomForestClassifier\n",
    "from numpy import load\n",
    "import pandas as pd\n",
    "from sklearn.tree import DecisionTreeClassifier, ExtraTreeClassifier\n",
    "from sklearn.neural_network import MLPClassifier\n",
    "from sklearn.linear_model import LogisticRegression\n",
    "from sklearn.metrics import accuracy_score\n",
    "from sklearn.metrics import confusion_matrix\n",
    "from sklearn.metrics import precision_score\n",
    "from sklearn.metrics import recall_score\n",
    "from sklearn.metrics import classification_report\n",
    "from sklearn.naive_bayes import BernoulliNB, GaussianNB\n",
    "from sklearn.neighbors import KNeighborsClassifier\n",
    "from sklearn.svm import LinearSVC\n",
    "from sklearn import metrics\n",
    "import matplotlib.pyplot as plt\n",
    "from sklearn.metrics import plot_roc_curve\n",
    "from sklearn.metrics import plot_confusion_matrix"
   ]
  },
  {
   "cell_type": "code",
   "execution_count": 7,
   "metadata": {},
   "outputs": [],
   "source": [
    "# Load the X_train, Y_train, X_test and Y_test\n",
    "X_train = np.load('../data/fnc-1/x_train.npy')\n",
    "X_test = np.load('../data/fnc-1/x_test.npy')\n",
    "Y_train = np.load('../data/fnc-1/y_train.npy', allow_pickle=True)\n",
    "Y_test = load('../data/fnc-1/y_test.npy', allow_pickle=True)"
   ]
  },
  {
   "cell_type": "code",
   "execution_count": 8,
   "metadata": {},
   "outputs": [],
   "source": [
    "# Converting the labels into int type to prevent unknown type error \n",
    "Y_test = Y_test.astype('int')\n",
    "Y_train = Y_train.astype('int')"
   ]
  },
  {
   "cell_type": "code",
   "execution_count": 36,
   "metadata": {},
   "outputs": [],
   "source": [
    "# 0 -> agree\n",
    "# 1 -> disagree\n",
    "# 2 -> discuss\n",
    "# 3 -> unrelated\n",
    "labels = [0, 1, 2, 3]"
   ]
  },
  {
   "cell_type": "markdown",
   "metadata": {},
   "source": [
    "### Random Forest Classifier"
   ]
  },
  {
   "cell_type": "code",
   "execution_count": 10,
   "metadata": {},
   "outputs": [
    {
     "name": "stdout",
     "output_type": "stream",
     "text": [
      "Accuracy:  86.06225160351 %\n",
      "Confusion Matrix:\n",
      " [[  863     0   793   247]\n",
      " [  190     0   282   225]\n",
      " [  574     0  3102   788]\n",
      " [   90     0   353 17906]]\n",
      "Precision Score:  0.8606225160351001\n",
      "Recall Score:  0.8606225160351001\n",
      "              precision    recall  f1-score   support\n",
      "\n",
      "           0       0.50      0.45      0.48      1903\n",
      "           1       0.00      0.00      0.00       697\n",
      "           2       0.68      0.69      0.69      4464\n",
      "           3       0.93      0.98      0.95     18349\n",
      "\n",
      "    accuracy                           0.86     25413\n",
      "   macro avg       0.53      0.53      0.53     25413\n",
      "weighted avg       0.83      0.86      0.85     25413\n",
      "\n"
     ]
    },
    {
     "name": "stderr",
     "output_type": "stream",
     "text": [
      "/Users/neeraj/.local/lib/python3.7/site-packages/sklearn/metrics/_classification.py:1221: UndefinedMetricWarning: Precision and F-score are ill-defined and being set to 0.0 in labels with no predicted samples. Use `zero_division` parameter to control this behavior.\n",
      "  _warn_prf(average, modifier, msg_start, len(result))\n"
     ]
    }
   ],
   "source": [
    "# Random Forest Classifier \n",
    "randomForest = RandomForestClassifier(random_state=1)\n",
    "randomForest.fit(X_train, Y_train)\n",
    "Y_predictions = randomForest.predict(X_test)\n",
    "print('Accuracy: ', accuracy_score(Y_test, Y_predictions) * 100, \"%\")\n",
    "# Getting the confusion matrix\n",
    "print('Confusion Matrix:\\n', confusion_matrix(Y_test, Y_predictions))\n",
    "# Precision score\n",
    "print('Precision Score: ', precision_score(Y_test, Y_predictions, average=\"micro\"))\n",
    "# Recall score\n",
    "print('Recall Score: ', recall_score(Y_test, Y_predictions, average=\"micro\"))\n",
    "print(classification_report(Y_test, Y_predictions))"
   ]
  },
  {
   "cell_type": "code",
   "execution_count": 52,
   "metadata": {},
   "outputs": [
    {
     "name": "stdout",
     "output_type": "stream",
     "text": [
      "Weighted F1 Score: 84.61%\n",
      "Agree F1 Score: 47.68% \n",
      "Disagree F1 Score: 0.00% \n",
      "Discuss F1 Score: 68.98% \n",
      "Unrelated F1 Score: 95.46%\n"
     ]
    }
   ],
   "source": [
    "randomForestF1 = metrics.f1_score(Y_test, Y_predictions, labels=labels, average=None)\n",
    "weighted_f1_rf = metrics.f1_score(Y_test, Y_predictions, labels=labels, average='weighted')\n",
    "print(\"Weighted F1 Score: %.2f%%\" % (weighted_f1_rf * 100.0))\n",
    "print('Agree F1 Score: %.2f%%' % (randomForestF1[0]*100),'\\n'\n",
    "      'Disagree F1 Score: %.2f%%' % (randomForestF1[1]*100),'\\n'\n",
    "      'Discuss F1 Score: %.2f%%' % (randomForestF1[2]*100),'\\n'\n",
    "      'Unrelated F1 Score: %.2f%%' % (randomForestF1[3]*100))"
   ]
  },
  {
   "cell_type": "code",
   "execution_count": 46,
   "metadata": {},
   "outputs": [
    {
     "data": {
      "image/png": "[encoded data removed]",
      "text/plain": [
       "<Figure size 432x288 with 2 Axes>"
      ]
     },
     "metadata": {
      "needs_background": "light"
     },
     "output_type": "display_data"
    }
   ],
   "source": [
    "# Plot confusion matrix\n",
    "plot_confusion_matrix(randomForest, X_test, Y_test)  # doctest: +SKIP\n",
    "plt.show() "
   ]
  },
  {
   "cell_type": "markdown",
   "metadata": {},
   "source": [
    "### Logistic Regression Classifier"
   ]
  },
  {
   "cell_type": "code",
   "execution_count": 18,
   "metadata": {},
   "outputs": [
    {
     "name": "stdout",
     "output_type": "stream",
     "text": [
      "Accuracy:  86.11340652421988 %\n",
      "Confusion Matrix:\n",
      " [[  825     0   775   303]\n",
      " [  167     3   259   268]\n",
      " [  475     0  3038   951]\n",
      " [   85     0   246 18018]]\n",
      "Precision Score:  0.8611340652421988\n",
      "Recall Score:  0.8611340652421988\n",
      "              precision    recall  f1-score   support\n",
      "\n",
      "           0       0.53      0.43      0.48      1903\n",
      "           1       1.00      0.00      0.01       697\n",
      "           2       0.70      0.68      0.69      4464\n",
      "           3       0.92      0.98      0.95     18349\n",
      "\n",
      "    accuracy                           0.86     25413\n",
      "   macro avg       0.79      0.53      0.53     25413\n",
      "weighted avg       0.86      0.86      0.84     25413\n",
      "\n"
     ]
    }
   ],
   "source": [
    "# Logitsic Regression Classifier \n",
    "logisticRegression = LogisticRegression(solver='saga', multi_class='multinomial')\n",
    "logisticRegression.fit(X_train, Y_train)\n",
    "lr_Y_predictions = logisticRegression.predict(X_test)\n",
    "print('Accuracy: ', accuracy_score(Y_test, lr_Y_predictions) * 100, \"%\")\n",
    "# Getting the confusion matrix\n",
    "print('Confusion Matrix:\\n', confusion_matrix(Y_test, lr_Y_predictions))\n",
    "# Precision score\n",
    "print('Precision Score: ', precision_score(Y_test, lr_Y_predictions, average=\"micro\"))\n",
    "# Recall score\n",
    "print('Recall Score: ', recall_score(Y_test, lr_Y_predictions, average=\"micro\"))\n",
    "print(classification_report(Y_test, lr_Y_predictions))"
   ]
  },
  {
   "cell_type": "code",
   "execution_count": 51,
   "metadata": {},
   "outputs": [
    {
     "name": "stdout",
     "output_type": "stream",
     "text": [
      "Weighted F1 Score: 84.42%\n",
      "Agree F1 Score: 47.76% \n",
      "Disagree F1 Score: 0.86% \n",
      "Discuss F1 Score: 69.19% \n",
      "Unrelated F1 Score: 95.11%\n"
     ]
    }
   ],
   "source": [
    "logisticF1 = metrics.f1_score(Y_test, lr_Y_predictions, labels=labels, average=None)\n",
    "weighted_f1_lr = metrics.f1_score(Y_test, lr_Y_predictions, labels=labels, average='weighted')\n",
    "print(\"Weighted F1 Score: %.2f%%\" % (weighted_f1_lr * 100.0))\n",
    "print('Agree F1 Score: %.2f%%' % (logisticF1[0]*100),'\\n'\n",
    "      'Disagree F1 Score: %.2f%%' % (logisticF1[1]*100),'\\n'\n",
    "      'Discuss F1 Score: %.2f%%' % (logisticF1[2]*100),'\\n'\n",
    "      'Unrelated F1 Score: %.2f%%' % (logisticF1[3]*100))"
   ]
  },
  {
   "cell_type": "code",
   "execution_count": 44,
   "metadata": {},
   "outputs": [
    {
     "data": {
      "image/png": "[encoded data removed]",
      "text/plain": [
       "<Figure size 432x288 with 2 Axes>"
      ]
     },
     "metadata": {
      "needs_background": "light"
     },
     "output_type": "display_data"
    }
   ],
   "source": [
    "# Plot confusion matrix\n",
    "plot_confusion_matrix(logisticRegression, X_test, Y_test)  # doctest: +SKIP\n",
    "plt.show() "
   ]
  },
  {
   "cell_type": "markdown",
   "metadata": {},
   "source": [
    "### Gaussian Naive Bayes Classifier"
   ]
  },
  {
   "cell_type": "code",
   "execution_count": 21,
   "metadata": {},
   "outputs": [
    {
     "name": "stdout",
     "output_type": "stream",
     "text": [
      "Accuracy:  21.740841301695983 %\n",
      "Confusion Matrix:\n",
      " [[ 948  339  328  288]\n",
      " [ 302  191   90  114]\n",
      " [1774  617 1569  504]\n",
      " [8808 1532 5192 2817]]\n",
      "Precision Score:  0.21740841301695982\n",
      "Recall Score:  0.21740841301695982\n",
      "              precision    recall  f1-score   support\n",
      "\n",
      "           0       0.08      0.50      0.14      1903\n",
      "           1       0.07      0.27      0.11       697\n",
      "           2       0.22      0.35      0.27      4464\n",
      "           3       0.76      0.15      0.26     18349\n",
      "\n",
      "    accuracy                           0.22     25413\n",
      "   macro avg       0.28      0.32      0.19     25413\n",
      "weighted avg       0.59      0.22      0.25     25413\n",
      "\n"
     ]
    }
   ],
   "source": [
    "# Gaussian Naive Bayes Classifier \n",
    "gaussianNB = GaussianNB()\n",
    "gaussianNB.fit(X_train, Y_train)\n",
    "gnb_Y_predictions = gaussianNB.predict(X_test)\n",
    "print('Accuracy: ', accuracy_score(Y_test, gnb_Y_predictions) * 100, \"%\")\n",
    "# Getting the confusion matrix\n",
    "print('Confusion Matrix:\\n', confusion_matrix(Y_test, gnb_Y_predictions))\n",
    "# Precision score\n",
    "print('Precision Score: ', precision_score(Y_test, gnb_Y_predictions, average=\"micro\"))\n",
    "# Recall score\n",
    "print('Recall Score: ', recall_score(Y_test, gnb_Y_predictions, average=\"micro\"))\n",
    "print(classification_report(Y_test, gnb_Y_predictions))"
   ]
  },
  {
   "cell_type": "code",
   "execution_count": 53,
   "metadata": {},
   "outputs": [
    {
     "name": "stdout",
     "output_type": "stream",
     "text": [
      "Weighted F1 Score: 24.51%\n",
      "Agree F1 Score: 13.80% \n",
      "Disagree F1 Score: 11.32% \n",
      "Discuss F1 Score: 26.95% \n",
      "Unrelated F1 Score: 25.53%\n"
     ]
    }
   ],
   "source": [
    "gnbF1 = metrics.f1_score(Y_test, gnb_Y_predictions, labels=labels, average=None)\n",
    "weighted_f1_gnb = metrics.f1_score(Y_test, gnb_Y_predictions, labels=labels, average='weighted')\n",
    "print(\"Weighted F1 Score: %.2f%%\" % (weighted_f1_gnb * 100.0))\n",
    "print('Agree F1 Score: %.2f%%' % (gnbF1[0]*100),'\\n'\n",
    "      'Disagree F1 Score: %.2f%%' % (gnbF1[1]*100),'\\n'\n",
    "      'Discuss F1 Score: %.2f%%' % (gnbF1[2]*100),'\\n'\n",
    "      'Unrelated F1 Score: %.2f%%' % (gnbF1[3]*100))"
   ]
  },
  {
   "cell_type": "code",
   "execution_count": 47,
   "metadata": {},
   "outputs": [
    {
     "data": {
      "image/png": "[encoded data removed]",
      "text/plain": [
       "<Figure size 432x288 with 2 Axes>"
      ]
     },
     "metadata": {
      "needs_background": "light"
     },
     "output_type": "display_data"
    }
   ],
   "source": [
    "# Plot confusion matrix\n",
    "plot_confusion_matrix(gaussianNB, X_test, Y_test)  # doctest: +SKIP\n",
    "plt.show() "
   ]
  },
  {
   "cell_type": "markdown",
   "metadata": {},
   "source": [
    "### Bernoulli Naive Bayes Classifier"
   ]
  },
  {
   "cell_type": "code",
   "execution_count": 26,
   "metadata": {},
   "outputs": [
    {
     "name": "stdout",
     "output_type": "stream",
     "text": [
      "Accuracy:  21.740841301695983 %\n",
      "Confusion Matrix:\n",
      " [[ 1054    67   198   584]\n",
      " [  277    46    45   329]\n",
      " [ 1292   147  1071  1954]\n",
      " [ 3494   344  2809 11702]]\n",
      "Precision Score:  0.545901703852359\n",
      "Recall Score:  0.545901703852359\n",
      "              precision    recall  f1-score   support\n",
      "\n",
      "           0       0.17      0.55      0.26      1903\n",
      "           1       0.08      0.07      0.07       697\n",
      "           2       0.26      0.24      0.25      4464\n",
      "           3       0.80      0.64      0.71     18349\n",
      "\n",
      "    accuracy                           0.55     25413\n",
      "   macro avg       0.33      0.37      0.32     25413\n",
      "weighted avg       0.64      0.55      0.58     25413\n",
      "\n"
     ]
    }
   ],
   "source": [
    "# Bernoulli Naive Bayes Classifier \n",
    "bernoilliNB = BernoulliNB()\n",
    "bernoilliNB.fit(X_train, Y_train)\n",
    "bnb_Y_predictions = bernoilliNB.predict(X_test)\n",
    "print('Accuracy: ', accuracy_score(Y_test, gnb_Y_predictions) * 100, \"%\")\n",
    "# Getting the confusion matrix\n",
    "print('Confusion Matrix:\\n', confusion_matrix(Y_test, bnb_Y_predictions))\n",
    "# Precision score\n",
    "print('Precision Score: ', precision_score(Y_test, bnb_Y_predictions, average=\"micro\"))\n",
    "# Recall score\n",
    "print('Recall Score: ', recall_score(Y_test, bnb_Y_predictions, average=\"micro\"))\n",
    "print(classification_report(Y_test, bnb_Y_predictions))"
   ]
  },
  {
   "cell_type": "code",
   "execution_count": 29,
   "metadata": {},
   "outputs": [
    {
     "name": "stdout",
     "output_type": "stream",
     "text": [
      "Weighted F1 Score: 57.88%\n",
      "Agree F1 Score: 26.28% \n",
      "Disagree F1 Score: 7.07% \n",
      "Discuss F1 Score: 24.94% \n",
      "Agree F1 Score: 71.10%\n"
     ]
    }
   ],
   "source": [
    "bnbF1 = metrics.f1_score(Y_test, bnb_Y_predictions, labels=labels, average=None)\n",
    "weighted_f1_bnb = metrics.f1_score(Y_test, bnb_Y_predictions, labels=labels, average='weighted')\n",
    "print(\"Weighted F1 Score: %.2f%%\" % (weighted_f1_bnb * 100.0))\n",
    "print('Agree F1 Score: %.2f%%' % (bnbF1[0]*100),'\\n'\n",
    "      'Disagree F1 Score: %.2f%%' % (bnbF1[1]*100),'\\n'\n",
    "      'Discuss F1 Score: %.2f%%' % (bnbF1[2]*100),'\\n'\n",
    "      'Agree F1 Score: %.2f%%' % (bnbF1[3]*100))"
   ]
  },
  {
   "cell_type": "code",
   "execution_count": 48,
   "metadata": {},
   "outputs": [
    {
     "data": {
      "image/png": "[encoded data removed]",
      "text/plain": [
       "<Figure size 432x288 with 2 Axes>"
      ]
     },
     "metadata": {
      "needs_background": "light"
     },
     "output_type": "display_data"
    }
   ],
   "source": [
    "# Plot confusion matrix\n",
    "plot_confusion_matrix(bernoilliNB, X_test, Y_test)  # doctest: +SKIP\n",
    "plt.show() "
   ]
  },
  {
   "cell_type": "markdown",
   "metadata": {},
   "source": [
    "### Decision Tree Classifier"
   ]
  },
  {
   "cell_type": "code",
   "execution_count": 30,
   "metadata": {},
   "outputs": [
    {
     "name": "stdout",
     "output_type": "stream",
     "text": [
      "Accuracy:  79.53803171605084 %\n",
      "Confusion Matrix:\n",
      " [[  766    34   905   198]\n",
      " [  225    31   258   183]\n",
      " [ 1121    94  2615   634]\n",
      " [  477    71  1000 16801]]\n",
      "Precision Score:  0.7953803171605084\n",
      "Recall Score:  0.7953803171605084\n",
      "              precision    recall  f1-score   support\n",
      "\n",
      "           0       0.30      0.40      0.34      1903\n",
      "           1       0.13      0.04      0.07       697\n",
      "           2       0.55      0.59      0.57      4464\n",
      "           3       0.94      0.92      0.93     18349\n",
      "\n",
      "    accuracy                           0.80     25413\n",
      "   macro avg       0.48      0.49      0.48     25413\n",
      "weighted avg       0.80      0.80      0.80     25413\n",
      "\n"
     ]
    }
   ],
   "source": [
    "# Decision Tree Classifier \n",
    "decisionTree = DecisionTreeClassifier(random_state=1)\n",
    "decisionTree.fit(X_train, Y_train )\n",
    "dt_Y_predictions = decisionTree.predict(X_test)\n",
    "print('Accuracy: ', accuracy_score(Y_test, dt_Y_predictions) * 100, \"%\")\n",
    "# Getting the confusion matrix\n",
    "print('Confusion Matrix:\\n', confusion_matrix(Y_test, dt_Y_predictions))\n",
    "# Precision score\n",
    "print('Precision Score: ', precision_score(Y_test, dt_Y_predictions, average=\"micro\"))\n",
    "# Recall score\n",
    "print('Recall Score: ', recall_score(Y_test, dt_Y_predictions, average=\"micro\"))\n",
    "print(classification_report(Y_test, dt_Y_predictions))"
   ]
  },
  {
   "cell_type": "code",
   "execution_count": 31,
   "metadata": {},
   "outputs": [
    {
     "name": "stdout",
     "output_type": "stream",
     "text": [
      "Weighted F1 Score: 79.76%\n",
      "Agree F1 Score: 34.11% \n",
      "Disagree F1 Score: 6.69% \n",
      "Discuss F1 Score: 56.59% \n",
      "Agree F1 Score: 92.91%\n"
     ]
    }
   ],
   "source": [
    "dtF1 = metrics.f1_score(Y_test, dt_Y_predictions, labels=labels, average=None)\n",
    "weighted_f1_dt = metrics.f1_score(Y_test, dt_Y_predictions, labels=labels, average='weighted')\n",
    "print(\"Weighted F1 Score: %.2f%%\" % (weighted_f1_dt * 100.0))\n",
    "print('Agree F1 Score: %.2f%%' % (dtF1[0]*100),'\\n'\n",
    "      'Disagree F1 Score: %.2f%%' % (dtF1[1]*100),'\\n'\n",
    "      'Discuss F1 Score: %.2f%%' % (dtF1[2]*100),'\\n'\n",
    "      'Agree F1 Score: %.2f%%' % (dtF1[3]*100))"
   ]
  },
  {
   "cell_type": "code",
   "execution_count": 49,
   "metadata": {},
   "outputs": [
    {
     "data": {
      "image/png": "[encoded data removed]",
      "text/plain": [
       "<Figure size 432x288 with 2 Axes>"
      ]
     },
     "metadata": {
      "needs_background": "light"
     },
     "output_type": "display_data"
    }
   ],
   "source": [
    "# Plot confusion matrix\n",
    "plot_confusion_matrix(decisionTree, X_test, Y_test)  # doctest: +SKIP\n",
    "plt.show() "
   ]
  },
  {
   "cell_type": "code",
   "execution_count": null,
   "metadata": {},
   "outputs": [],
   "source": [
    "# # LinearSVC Classifier \n",
    "# linearSVC = LinearSVC(multi_class='crammer_singer', C=0.5)\n",
    "# linearSVC.fit(X_train, Y_train )\n",
    "# lsvc_Y_predictions = linearSVC.predict(X_test)\n",
    "# print('Accuracy: ', accuracy_score(Y_test, lsvc_Y_predictions) * 100, \"%\")\n",
    "# # Getting the confusion matrix\n",
    "# print('Confusion Matrix:\\n', confusion_matrix(Y_test, lsvc_Y_predictions))\n",
    "# # Precision score\n",
    "# print('Precision Score: ', precision_score(Y_test, lsvc_Y_predictions, average=\"micro\"))\n",
    "# # Recall score\n",
    "# print('Recall Score: ', recall_score(Y_test, lsvc_Y_predictions, average=\"micro\"))\n",
    "# print(classification_report(Y_test, lsvc_Y_predictions))"
   ]
  },
  {
   "cell_type": "markdown",
   "metadata": {},
   "source": [
    "### MLP Classifier"
   ]
  },
  {
   "cell_type": "code",
   "execution_count": 32,
   "metadata": {},
   "outputs": [
    {
     "name": "stdout",
     "output_type": "stream",
     "text": [
      "Accuracy:  76.49628143076377 %\n",
      "Confusion Matrix:\n",
      " [[  808    10   928   157]\n",
      " [  184     6   373   134]\n",
      " [  869    19  3025   551]\n",
      " [  884    42  1822 15601]]\n",
      "Precision Score:  0.7649628143076378\n",
      "Recall Score:  0.7649628143076378\n",
      "              precision    recall  f1-score   support\n",
      "\n",
      "           0       0.29      0.42      0.35      1903\n",
      "           1       0.08      0.01      0.02       697\n",
      "           2       0.49      0.68      0.57      4464\n",
      "           3       0.95      0.85      0.90     18349\n",
      "\n",
      "    accuracy                           0.76     25413\n",
      "   macro avg       0.45      0.49      0.46     25413\n",
      "weighted avg       0.80      0.76      0.77     25413\n",
      "\n"
     ]
    }
   ],
   "source": [
    "# MLP Classifier(Neural Net)\n",
    "mlpClassifier = MLPClassifier(random_state=1)\n",
    "mlpClassifier.fit(X_train, Y_train)\n",
    "mlp_Y_predictions = mlpClassifier.predict(X_test)\n",
    "print('Accuracy: ', accuracy_score(Y_test, mlp_Y_predictions) * 100, \"%\")\n",
    "# Getting the confusion matrix\n",
    "print('Confusion Matrix:\\n', confusion_matrix(Y_test, mlp_Y_predictions))\n",
    "# Precision score\n",
    "print('Precision Score: ', precision_score(Y_test, mlp_Y_predictions, average=\"micro\"))\n",
    "# Recall score\n",
    "print('Recall Score: ', recall_score(Y_test, mlp_Y_predictions, average=\"micro\"))\n",
    "print(classification_report(Y_test, mlp_Y_predictions))"
   ]
  },
  {
   "cell_type": "code",
   "execution_count": 33,
   "metadata": {},
   "outputs": [
    {
     "name": "stdout",
     "output_type": "stream",
     "text": [
      "Weighted F1 Score: 77.41%\n",
      "Agree F1 Score: 34.77% \n",
      "Disagree F1 Score: 1.55% \n",
      "Discuss F1 Score: 57.01% \n",
      "Agree F1 Score: 89.68%\n"
     ]
    }
   ],
   "source": [
    "mlpF1 = metrics.f1_score(Y_test, mlp_Y_predictions, labels=labels, average=None)\n",
    "weighted_f1_mlp = metrics.f1_score(Y_test, mlp_Y_predictions, labels=labels, average='weighted')\n",
    "print(\"Weighted F1 Score: %.2f%%\" % (weighted_f1_mlp * 100.0))\n",
    "print('Agree F1 Score: %.2f%%' % (mlpF1[0]*100),'\\n'\n",
    "      'Disagree F1 Score: %.2f%%' % (mlpF1[1]*100),'\\n'\n",
    "      'Discuss F1 Score: %.2f%%' % (mlpF1[2]*100),'\\n'\n",
    "      'Agree F1 Score: %.2f%%' % (mlpF1[3]*100))"
   ]
  },
  {
   "cell_type": "code",
   "execution_count": 50,
   "metadata": {},
   "outputs": [
    {
     "data": {
      "image/png": "[encoded data removed]",
      "text/plain": [
       "<Figure size 432x288 with 2 Axes>"
      ]
     },
     "metadata": {
      "needs_background": "light"
     },
     "output_type": "display_data"
    }
   ],
   "source": [
    "# Plot confusion matrix\n",
    "plot_confusion_matrix(mlpClassifier, X_test, Y_test)  # doctest: +SKIP\n",
    "plt.show() "
   ]
  },
  {
   "cell_type": "markdown",
   "metadata": {},
   "source": [
    "### Final Summary of various classifiers"
   ]
  },
  {
   "cell_type": "code",
   "execution_count": 34,
   "metadata": {},
   "outputs": [],
   "source": [
    "models_list = ['Random Forest', 'Logistic Regression', 'Gaussian NB', 'Bernoulli NB', 'Decision Tree', 'MLP']\n",
    "rf_accuracy = accuracy_score(Y_test, Y_predictions) * 100 \n",
    "lr_accuracy = accuracy_score(Y_test, lr_Y_predictions) * 100\n",
    "gnb_accuracy = accuracy_score(Y_test, gnb_Y_predictions) * 100\n",
    "bnb_accuracy = accuracy_score(Y_test, bnb_Y_predictions) * 100\n",
    "dt_accuracy = accuracy_score(Y_test, dt_Y_predictions) * 100\n",
    "# lsvc_accuracy = accuracy_score(Y_test, lsvc_Y_predictions) * 100\n",
    "mlp_accuracy = accuracy_score(Y_test, mlp_Y_predictions) * 100\n",
    "models_accuracy = [rf_accuracy, lr_accuracy, gnb_accuracy, bnb_accuracy, dt_accuracy, mlp_accuracy]\n",
    "summary = {'model': models_list, 'accuracy': models_accuracy}\n",
    "models_summary = pd.DataFrame(summary)\n",
    "models_summary.set_index('model', inplace=True)\n",
    "models_summary.index.name = None"
   ]
  },
  {
   "cell_type": "code",
   "execution_count": 35,
   "metadata": {},
   "outputs": [
    {
     "data": {
      "text/html": [
       "<div>\n",
       "<style scoped>\n",
       "    .dataframe tbody tr th:only-of-type {\n",
       "        vertical-align: middle;\n",
       "    }\n",
       "\n",
       "    .dataframe tbody tr th {\n",
       "        vertical-align: top;\n",
       "    }\n",
       "\n",
       "    .dataframe thead th {\n",
       "        text-align: right;\n",
       "    }\n",
       "</style>\n",
       "<table border=\"1\" class=\"dataframe\">\n",
       "  <thead>\n",
       "    <tr style=\"text-align: right;\">\n",
       "      <th></th>\n",
       "      <th>accuracy</th>\n",
       "    </tr>\n",
       "  </thead>\n",
       "  <tbody>\n",
       "    <tr>\n",
       "      <th>Random Forest</th>\n",
       "      <td>86.062252</td>\n",
       "    </tr>\n",
       "    <tr>\n",
       "      <th>Logistic Regression</th>\n",
       "      <td>86.113407</td>\n",
       "    </tr>\n",
       "    <tr>\n",
       "      <th>Gaussian NB</th>\n",
       "      <td>21.740841</td>\n",
       "    </tr>\n",
       "    <tr>\n",
       "      <th>Bernoulli NB</th>\n",
       "      <td>54.590170</td>\n",
       "    </tr>\n",
       "    <tr>\n",
       "      <th>Decision Tree</th>\n",
       "      <td>79.538032</td>\n",
       "    </tr>\n",
       "    <tr>\n",
       "      <th>MLP</th>\n",
       "      <td>76.496281</td>\n",
       "    </tr>\n",
       "  </tbody>\n",
       "</table>\n",
       "</div>"
      ],
      "text/plain": [
       "                      accuracy\n",
       "Random Forest        86.062252\n",
       "Logistic Regression  86.113407\n",
       "Gaussian NB          21.740841\n",
       "Bernoulli NB         54.590170\n",
       "Decision Tree        79.538032\n",
       "MLP                  76.496281"
      ]
     },
     "execution_count": 35,
     "metadata": {},
     "output_type": "execute_result"
    }
   ],
   "source": [
    "models_summary "
   ]
  },
  {
   "cell_type": "code",
   "execution_count": null,
   "metadata": {},
   "outputs": [],
   "source": []
  }
 ],
 "metadata": {
  "kernelspec": {
   "display_name": "Python 3",
   "language": "python",
   "name": "python3"
  },
  "language_info": {
   "codemirror_mode": {
    "name": "ipython",
    "version": 3
   },
   "file_extension": ".py",
   "mimetype": "text/x-python",
   "name": "python",
   "nbconvert_exporter": "python",
   "pygments_lexer": "ipython3",
   "version": "3.7.6"
  }
 },
 "nbformat": 4,
 "nbformat_minor": 2
}
